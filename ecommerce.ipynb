{
 "cells": [
  {
   "cell_type": "code",
   "execution_count": 1,
   "id": "f6863b72-9d9a-4e5d-b877-f7d7ae6d0192",
   "metadata": {},
   "outputs": [],
   "source": [
    "import pandas as pd \n",
    "import matplotlib.pyplot as plt\n",
    "import seaborn as sns\n",
    "import mysql.connector\n",
    "import numpy as np\n",
    "\n",
    "db = mysql.connector.connect(host = \"localhost\",\n",
    "                            username = \"root\",\n",
    "                            password=\"varz@2001\",\n",
    "                            database = \"ecommerce\")\n",
    "\n",
    "cur = db.cursor()\n"
   ]
  },
  {
   "cell_type": "markdown",
   "id": "11fe060c-40b6-4a91-ba34-abf5cf5fbe5b",
   "metadata": {},
   "source": [
    "# List all unique cities where customers are located.\n"
   ]
  },
  {
   "cell_type": "code",
   "execution_count": 2,
   "id": "a7d2421e-ac22-465b-812b-c21b8ea87a5c",
   "metadata": {},
   "outputs": [
    {
     "data": {
      "text/html": [
       "<div>\n",
       "<style scoped>\n",
       "    .dataframe tbody tr th:only-of-type {\n",
       "        vertical-align: middle;\n",
       "    }\n",
       "\n",
       "    .dataframe tbody tr th {\n",
       "        vertical-align: top;\n",
       "    }\n",
       "\n",
       "    .dataframe thead th {\n",
       "        text-align: right;\n",
       "    }\n",
       "</style>\n",
       "<table border=\"1\" class=\"dataframe\">\n",
       "  <thead>\n",
       "    <tr style=\"text-align: right;\">\n",
       "      <th></th>\n",
       "      <th>0</th>\n",
       "    </tr>\n",
       "  </thead>\n",
       "  <tbody>\n",
       "    <tr>\n",
       "      <th>0</th>\n",
       "      <td>FRANCA</td>\n",
       "    </tr>\n",
       "    <tr>\n",
       "      <th>1</th>\n",
       "      <td>SAO BERNARDO DO CAMPO</td>\n",
       "    </tr>\n",
       "    <tr>\n",
       "      <th>2</th>\n",
       "      <td>SAO PAULO</td>\n",
       "    </tr>\n",
       "    <tr>\n",
       "      <th>3</th>\n",
       "      <td>MOGI DAS CRUZES</td>\n",
       "    </tr>\n",
       "    <tr>\n",
       "      <th>4</th>\n",
       "      <td>CAMPINAS</td>\n",
       "    </tr>\n",
       "  </tbody>\n",
       "</table>\n",
       "</div>"
      ],
      "text/plain": [
       "                       0\n",
       "0                 FRANCA\n",
       "1  SAO BERNARDO DO CAMPO\n",
       "2              SAO PAULO\n",
       "3        MOGI DAS CRUZES\n",
       "4               CAMPINAS"
      ]
     },
     "execution_count": 2,
     "metadata": {},
     "output_type": "execute_result"
    }
   ],
   "source": [
    "query = \"\"\"select distinct upper((customer_city)) from customers\"\"\"\n",
    "\n",
    "cur.execute(query)\n",
    "\n",
    "data = cur.fetchall()\n",
    "\n",
    "df = pd.DataFrame(data)\n",
    "df = df.head(5)\n",
    "df"
   ]
  },
  {
   "cell_type": "markdown",
   "id": "2a0a9a56-524f-4c55-814d-bc8c5330871a",
   "metadata": {},
   "source": [
    "# Count the number of orders placed in 2017"
   ]
  },
  {
   "cell_type": "code",
   "execution_count": 3,
   "id": "2f6799ff-56ec-4f21-a9e4-7c996165a483",
   "metadata": {},
   "outputs": [
    {
     "data": {
      "text/plain": [
       "('total orders placed in 2017 are', 135303)"
      ]
     },
     "execution_count": 3,
     "metadata": {},
     "output_type": "execute_result"
    }
   ],
   "source": [
    "query = \"\"\"SELECT count(order_id)FROM orders where year(order_purchase_timestamp) = 2017\"\"\"\n",
    "\n",
    "cur.execute(query)\n",
    "\n",
    "data = cur.fetchall()\n",
    "\n",
    "\"total orders placed in 2017 are\",data[0][0]"
   ]
  },
  {
   "cell_type": "markdown",
   "id": "7158cbbd-00e0-4c6b-872c-ab5a7113596f",
   "metadata": {},
   "source": [
    "# Find the total sales per category.\n"
   ]
  },
  {
   "cell_type": "code",
   "execution_count": 4,
   "id": "bf76cc54-e4cc-4ba7-8c67-bb79f8c73d0e",
   "metadata": {},
   "outputs": [
    {
     "data": {
      "text/html": [
       "<div>\n",
       "<style scoped>\n",
       "    .dataframe tbody tr th:only-of-type {\n",
       "        vertical-align: middle;\n",
       "    }\n",
       "\n",
       "    .dataframe tbody tr th {\n",
       "        vertical-align: top;\n",
       "    }\n",
       "\n",
       "    .dataframe thead th {\n",
       "        text-align: right;\n",
       "    }\n",
       "</style>\n",
       "<table border=\"1\" class=\"dataframe\">\n",
       "  <thead>\n",
       "    <tr style=\"text-align: right;\">\n",
       "      <th></th>\n",
       "      <th>category</th>\n",
       "      <th>Sales</th>\n",
       "    </tr>\n",
       "  </thead>\n",
       "  <tbody>\n",
       "    <tr>\n",
       "      <th>0</th>\n",
       "      <td>PERFUMERY</td>\n",
       "      <td>506738.66</td>\n",
       "    </tr>\n",
       "    <tr>\n",
       "      <th>1</th>\n",
       "      <td>FURNITURE DECORATION</td>\n",
       "      <td>1430176.39</td>\n",
       "    </tr>\n",
       "    <tr>\n",
       "      <th>2</th>\n",
       "      <td>TELEPHONY</td>\n",
       "      <td>486882.05</td>\n",
       "    </tr>\n",
       "    <tr>\n",
       "      <th>3</th>\n",
       "      <td>BED TABLE BATH</td>\n",
       "      <td>1712553.67</td>\n",
       "    </tr>\n",
       "    <tr>\n",
       "      <th>4</th>\n",
       "      <td>AUTOMOTIVE</td>\n",
       "      <td>852294.33</td>\n",
       "    </tr>\n",
       "    <tr>\n",
       "      <th>...</th>\n",
       "      <td>...</td>\n",
       "      <td>...</td>\n",
       "    </tr>\n",
       "    <tr>\n",
       "      <th>69</th>\n",
       "      <td>CDS MUSIC DVDS</td>\n",
       "      <td>1199.43</td>\n",
       "    </tr>\n",
       "    <tr>\n",
       "      <th>70</th>\n",
       "      <td>LA CUISINE</td>\n",
       "      <td>2913.53</td>\n",
       "    </tr>\n",
       "    <tr>\n",
       "      <th>71</th>\n",
       "      <td>FASHION CHILDREN'S CLOTHING</td>\n",
       "      <td>785.67</td>\n",
       "    </tr>\n",
       "    <tr>\n",
       "      <th>72</th>\n",
       "      <td>PC GAMER</td>\n",
       "      <td>2174.43</td>\n",
       "    </tr>\n",
       "    <tr>\n",
       "      <th>73</th>\n",
       "      <td>INSURANCE AND SERVICES</td>\n",
       "      <td>324.51</td>\n",
       "    </tr>\n",
       "  </tbody>\n",
       "</table>\n",
       "<p>74 rows × 2 columns</p>\n",
       "</div>"
      ],
      "text/plain": [
       "                       category       Sales\n",
       "0                     PERFUMERY   506738.66\n",
       "1          FURNITURE DECORATION  1430176.39\n",
       "2                     TELEPHONY   486882.05\n",
       "3                BED TABLE BATH  1712553.67\n",
       "4                    AUTOMOTIVE   852294.33\n",
       "..                          ...         ...\n",
       "69               CDS MUSIC DVDS     1199.43\n",
       "70                   LA CUISINE     2913.53\n",
       "71  FASHION CHILDREN'S CLOTHING      785.67\n",
       "72                     PC GAMER     2174.43\n",
       "73       INSURANCE AND SERVICES      324.51\n",
       "\n",
       "[74 rows x 2 columns]"
      ]
     },
     "execution_count": 4,
     "metadata": {},
     "output_type": "execute_result"
    }
   ],
   "source": [
    "query = \"\"\"select upper(products.product_category) category, round(sum(payments.payment_value),2) sales\n",
    "from products join order_items\n",
    "on products.product_id = order_items.product_id\n",
    "join payments\n",
    "on payments.order_id = order_items.order_id\n",
    "group by category\n",
    "\"\"\"\n",
    "\n",
    "cur.execute(query)\n",
    "\n",
    "data = cur.fetchall()\n",
    "\n",
    "df = pd.DataFrame(data, columns = [\"category\" , \"Sales\"])\n",
    "df"
   ]
  },
  {
   "cell_type": "markdown",
   "id": "e96abe00-40ed-466e-ab38-27907096e400",
   "metadata": {},
   "source": [
    "#  Calculate the percentage of orders that were paid in installments.\n"
   ]
  },
  {
   "cell_type": "code",
   "execution_count": 5,
   "id": "835f6bc7-dfbc-4a47-b7b8-25912271bffb",
   "metadata": {},
   "outputs": [
    {
     "data": {
      "text/plain": [
       "('Calculate the percentage of orders that were paid in installments is ',\n",
       " [(Decimal('99.9981'),)])"
      ]
     },
     "execution_count": 5,
     "metadata": {},
     "output_type": "execute_result"
    }
   ],
   "source": [
    "query = \"\"\"SELECT (sum(case when payment_installments >= 1 then 1 else 0 end))/count(*)*100 from payments;\"\"\"\n",
    "\n",
    "cur.execute(query)\n",
    "\n",
    "data = cur.fetchall()\n",
    "\n",
    "\"Calculate the percentage of orders that were paid in installments is \",data"
   ]
  },
  {
   "cell_type": "markdown",
   "id": "44b8fae1-70d6-45bb-8dab-714023804fb6",
   "metadata": {},
   "source": [
    "# Count the number of customers from each state"
   ]
  },
  {
   "cell_type": "code",
   "execution_count": 6,
   "id": "fa7a1001-ae3e-402f-b296-6befddcff2a7",
   "metadata": {},
   "outputs": [
    {
     "data": {
      "text/plain": [
       "<function matplotlib.pyplot.show(close=None, block=None)>"
      ]
     },
     "execution_count": 6,
     "metadata": {},
     "output_type": "execute_result"
    },
    {
     "data": {
      "image/png": "[encoded data removed]",
      "text/plain": [
       "<Figure size 800x300 with 1 Axes>"
      ]
     },
     "metadata": {},
     "output_type": "display_data"
    }
   ],
   "source": [
    "query = \"\"\"SELECT customer_state , count(customer_id) from customers\n",
    "group by customer_state;\"\"\"\n",
    "\n",
    "cur.execute(query)\n",
    "\n",
    "data = cur.fetchall()\n",
    "\n",
    "df = pd.DataFrame(data,columns = [\"state\",\"ID\"] )\n",
    "df = df.sort_values(by = \"ID\",ascending = False)\n",
    "\n",
    "plt.figure(figsize =(8,3))\n",
    "plt.bar(df[\"state\"],df[\"ID\"])\n",
    "plt.xlabel(\"state\")\n",
    "plt.ylabel(\"customer_count\")\n",
    "plt.title(\"count of customer by state\")\n",
    "plt.xticks(rotation = 90)\n",
    "plt.show"
   ]
  },
  {
   "cell_type": "markdown",
   "id": "00144450-783a-4f20-b591-2ac9d7ac9f3b",
   "metadata": {},
   "source": [
    "#  Calculate the number of orders per month in 2018.\n"
   ]
  },
  {
   "cell_type": "code",
   "execution_count": 7,
   "id": "e9d0025b-fae0-4166-b0b2-b3163e4b94e4",
   "metadata": {},
   "outputs": [
    {
     "data": {
      "image/png": "[encoded data removed]",
      "text/plain": [
       "<Figure size 640x480 with 1 Axes>"
      ]
     },
     "metadata": {},
     "output_type": "display_data"
    }
   ],
   "source": [
    "query = \"\"\"SELECT monthname(order_purchase_timestamp) as months, count(order_id) as order_count \n",
    "FROM orders WHERE year(order_purchase_timestamp) = 2018 GROUP BY months;\n",
    "\"\"\"\n",
    "\n",
    "cur.execute(query)\n",
    "data = cur.fetchall()\n",
    "\n",
    "df = pd.DataFrame(data, columns=[\"months\", \"order_count\"])\n",
    "\n",
    "month_order = [\"January\", \"February\", \"March\", \"April\", \"May\", \"June\", \n",
    "               \"July\", \"August\"]\n",
    "\n",
    "ax =sns.barplot(x=\"months\", y=\"order_count\", data=df, order=month_order,  color = \"yellow\") \n",
    "ax.bar_label(ax.containers[0])\n",
    "plt.title(\"count of order by months in 2018\")\n",
    "plt.xticks(rotation = 45)\n",
    "plt.show()"
   ]
  },
  {
   "cell_type": "markdown",
   "id": "398b2382-ce45-4275-b9cd-f0a3e318698b",
   "metadata": {},
   "source": [
    "# Find the average number of products per order, grouped by customer city.\n"
   ]
  },
  {
   "cell_type": "code",
   "execution_count": 8,
   "id": "8dbfd468-bb08-4b75-af13-1d8a3769c159",
   "metadata": {},
   "outputs": [
    {
     "data": {
      "text/html": [
       "<div>\n",
       "<style scoped>\n",
       "    .dataframe tbody tr th:only-of-type {\n",
       "        vertical-align: middle;\n",
       "    }\n",
       "\n",
       "    .dataframe tbody tr th {\n",
       "        vertical-align: top;\n",
       "    }\n",
       "\n",
       "    .dataframe thead th {\n",
       "        text-align: right;\n",
       "    }\n",
       "</style>\n",
       "<table border=\"1\" class=\"dataframe\">\n",
       "  <thead>\n",
       "    <tr style=\"text-align: right;\">\n",
       "      <th></th>\n",
       "      <th>Customer City</th>\n",
       "      <th>Avg Order</th>\n",
       "    </tr>\n",
       "  </thead>\n",
       "  <tbody>\n",
       "    <tr>\n",
       "      <th>0</th>\n",
       "      <td>padre carvalho</td>\n",
       "      <td>21.00</td>\n",
       "    </tr>\n",
       "    <tr>\n",
       "      <th>1</th>\n",
       "      <td>celso ramos</td>\n",
       "      <td>19.50</td>\n",
       "    </tr>\n",
       "    <tr>\n",
       "      <th>2</th>\n",
       "      <td>datas</td>\n",
       "      <td>18.00</td>\n",
       "    </tr>\n",
       "    <tr>\n",
       "      <th>3</th>\n",
       "      <td>candido godoi</td>\n",
       "      <td>18.00</td>\n",
       "    </tr>\n",
       "    <tr>\n",
       "      <th>4</th>\n",
       "      <td>matias olimpio</td>\n",
       "      <td>15.00</td>\n",
       "    </tr>\n",
       "    <tr>\n",
       "      <th>5</th>\n",
       "      <td>cidelandia</td>\n",
       "      <td>12.00</td>\n",
       "    </tr>\n",
       "    <tr>\n",
       "      <th>6</th>\n",
       "      <td>curralinho</td>\n",
       "      <td>12.00</td>\n",
       "    </tr>\n",
       "    <tr>\n",
       "      <th>7</th>\n",
       "      <td>picarra</td>\n",
       "      <td>12.00</td>\n",
       "    </tr>\n",
       "    <tr>\n",
       "      <th>8</th>\n",
       "      <td>morro de sao paulo</td>\n",
       "      <td>12.00</td>\n",
       "    </tr>\n",
       "    <tr>\n",
       "      <th>9</th>\n",
       "      <td>teixeira soares</td>\n",
       "      <td>12.00</td>\n",
       "    </tr>\n",
       "  </tbody>\n",
       "</table>\n",
       "</div>"
      ],
      "text/plain": [
       "        Customer City Avg Order\n",
       "0      padre carvalho     21.00\n",
       "1         celso ramos     19.50\n",
       "2               datas     18.00\n",
       "3       candido godoi     18.00\n",
       "4      matias olimpio     15.00\n",
       "5          cidelandia     12.00\n",
       "6          curralinho     12.00\n",
       "7             picarra     12.00\n",
       "8  morro de sao paulo     12.00\n",
       "9     teixeira soares     12.00"
      ]
     },
     "execution_count": 8,
     "metadata": {},
     "output_type": "execute_result"
    }
   ],
   "source": [
    "query = \"\"\"WITH count_per_order AS (\n",
    "    SELECT orders.order_id, orders.customer_id, COUNT(order_items.order_id) AS oc\n",
    "    FROM orders\n",
    "    JOIN order_items ON orders.order_id = order_items.order_id\n",
    "    GROUP BY orders.order_id, orders.customer_id\n",
    ")\n",
    "SELECT customers.customer_city, round(avg(count_per_order.oc),2) AS avg_order_count\n",
    "FROM customers\n",
    "JOIN count_per_order ON customers.customer_id = count_per_order.customer_id\n",
    "GROUP BY customers.customer_city order by avg_order_count DESC;\"\"\"\n",
    "\n",
    "cur.execute(query)\n",
    "\n",
    "data = cur.fetchall()\n",
    "\n",
    "df=pd.DataFrame(data , columns =[\"Customer City\",\"Avg Order\"])\n",
    "df=df.head(10)\n",
    "df"
   ]
  },
  {
   "cell_type": "markdown",
   "id": "dbda24f2-3094-46c7-b8fb-12d165812c4c",
   "metadata": {},
   "source": [
    "# Calculate the percentage of total revenue contributed by each product category.\n"
   ]
  },
  {
   "cell_type": "code",
   "execution_count": 9,
   "id": "a0ebecf1-901f-413e-9d9b-d31fa837f844",
   "metadata": {},
   "outputs": [
    {
     "data": {
      "text/html": [
       "<div>\n",
       "<style scoped>\n",
       "    .dataframe tbody tr th:only-of-type {\n",
       "        vertical-align: middle;\n",
       "    }\n",
       "\n",
       "    .dataframe tbody tr th {\n",
       "        vertical-align: top;\n",
       "    }\n",
       "\n",
       "    .dataframe thead th {\n",
       "        text-align: right;\n",
       "    }\n",
       "</style>\n",
       "<table border=\"1\" class=\"dataframe\">\n",
       "  <thead>\n",
       "    <tr style=\"text-align: right;\">\n",
       "      <th></th>\n",
       "      <th>category</th>\n",
       "      <th>percentage</th>\n",
       "    </tr>\n",
       "  </thead>\n",
       "  <tbody>\n",
       "    <tr>\n",
       "      <th>0</th>\n",
       "      <td>BED TABLE BATH</td>\n",
       "      <td>10.70</td>\n",
       "    </tr>\n",
       "    <tr>\n",
       "      <th>1</th>\n",
       "      <td>HEALTH BEAUTY</td>\n",
       "      <td>10.35</td>\n",
       "    </tr>\n",
       "    <tr>\n",
       "      <th>2</th>\n",
       "      <td>COMPUTER ACCESSORIES</td>\n",
       "      <td>9.90</td>\n",
       "    </tr>\n",
       "    <tr>\n",
       "      <th>3</th>\n",
       "      <td>FURNITURE DECORATION</td>\n",
       "      <td>8.93</td>\n",
       "    </tr>\n",
       "    <tr>\n",
       "      <th>4</th>\n",
       "      <td>WATCHES PRESENT</td>\n",
       "      <td>8.93</td>\n",
       "    </tr>\n",
       "  </tbody>\n",
       "</table>\n",
       "</div>"
      ],
      "text/plain": [
       "               category  percentage\n",
       "0        BED TABLE BATH       10.70\n",
       "1         HEALTH BEAUTY       10.35\n",
       "2  COMPUTER ACCESSORIES        9.90\n",
       "3  FURNITURE DECORATION        8.93\n",
       "4       WATCHES PRESENT        8.93"
      ]
     },
     "execution_count": 9,
     "metadata": {},
     "output_type": "execute_result"
    }
   ],
   "source": [
    "query = \"\"\"select upper(products.product_category) category,\n",
    "round((sum(payments.payment_value)/(select sum(payments.payment_value) from payments))*100,2) sales_percent\n",
    "from products join order_items\n",
    "on products.product_id = order_items.product_id\n",
    "join payments\n",
    "on payments.order_id = order_items.order_id\n",
    "group by category\n",
    "order by sales_percent DESC;\"\"\"\n",
    "\n",
    "cur.execute(query)\n",
    "\n",
    "data=cur.fetchall()\n",
    "df = pd.DataFrame(data , columns = [\"category\",\"percentage\"])\n",
    "df=df.head(5)\n",
    "df"
   ]
  },
  {
   "cell_type": "markdown",
   "id": "375a8aa0-2ddd-48cb-80fe-99d4c9764a9f",
   "metadata": {},
   "source": [
    "# Identify the correlation between product price and the number of times a product has been purchased.\n"
   ]
  },
  {
   "cell_type": "code",
   "execution_count": 11,
   "id": "9a923d46-4761-4b93-ba91-836d63c4cdf4",
   "metadata": {},
   "outputs": [
    {
     "name": "stdout",
     "output_type": "stream",
     "text": [
      "correaltion between no of times product has been purchase [ 1.         -0.10631514] [-1]\n"
     ]
    }
   ],
   "source": [
    "query = \"\"\"select products.product_category,\n",
    "count(order_items.product_id),\n",
    "round(avg(order_items.price),2) \n",
    "from products join order_items\n",
    "on products.product_id = order_items.product_id\n",
    "group by products.product_category;\"\"\"\n",
    "\n",
    "cur.execute(query)\n",
    "\n",
    "data=cur.fetchall()\n",
    "df = pd.DataFrame(data , columns=[\"category\",\"order_count\",\"price\"])\n",
    "\n",
    "arr1 = df[\"order_count\"]\n",
    "arr2 = df[\"price\"]\n",
    "a = np.corrcoef([arr1,arr2])\n",
    "print(\"correaltion between no of times product has been purchase\",a[0],[-1])"
   ]
  },
  {
   "cell_type": "markdown",
   "id": "fb55fc71-600b-4704-ac12-49dca8c55f34",
   "metadata": {},
   "source": [
    "#  Calculate the total revenue generated by each seller, and rank them by revenue.\n"
   ]
  },
  {
   "cell_type": "code",
   "execution_count": 22,
   "id": "52241545-5748-427f-a330-b2b1e262105d",
   "metadata": {},
   "outputs": [
    {
     "data": {
      "text/plain": [
       "<function matplotlib.pyplot.show(close=None, block=None)>"
      ]
     },
     "execution_count": 22,
     "metadata": {},
     "output_type": "execute_result"
    },
    {
     "data": {
      "image/png": "[encoded data removed]",
      "text/plain": [
       "<Figure size 640x480 with 1 Axes>"
      ]
     },
     "metadata": {},
     "output_type": "display_data"
    }
   ],
   "source": [
    "query = \"\"\" select * , dense_rank() over(order by revenue desc) as rn from \n",
    "(select order_items.seller_id , sum(payments.payment_value) revenue \n",
    "from order_items join payments on order_items.order_id = payments.order_id \n",
    "group by order_items.seller_id) as a  ;\"\"\"\n",
    "\n",
    "cur.execute(query)\n",
    "\n",
    "data=cur.fetchall()\n",
    "df = pd.DataFrame(data , columns = [\"seller_id\",\"revenue\",\"rank\"])\n",
    "df=df.head(5)\n",
    "sns.barplot(x=\"seller_id\" , y=\"revenue\" , data = df)\n",
    "plt.xticks(rotation = 90)\n",
    "plt.show"
   ]
  },
  {
   "cell_type": "markdown",
   "id": "ac617d67-30c6-4d14-a37f-8bfb9162da89",
   "metadata": {},
   "source": [
    "#  Calculate the moving average of order values for each customer over their order history."
   ]
  },
  {
   "cell_type": "code",
   "execution_count": 30,
   "id": "251642f1-c8e9-46cf-9711-88b64b4c2368",
   "metadata": {},
   "outputs": [
    {
     "data": {
      "text/html": [
       "<div>\n",
       "<style scoped>\n",
       "    .dataframe tbody tr th:only-of-type {\n",
       "        vertical-align: middle;\n",
       "    }\n",
       "\n",
       "    .dataframe tbody tr th {\n",
       "        vertical-align: top;\n",
       "    }\n",
       "\n",
       "    .dataframe thead th {\n",
       "        text-align: right;\n",
       "    }\n",
       "</style>\n",
       "<table border=\"1\" class=\"dataframe\">\n",
       "  <thead>\n",
       "    <tr style=\"text-align: right;\">\n",
       "      <th></th>\n",
       "      <th>0</th>\n",
       "      <th>1</th>\n",
       "      <th>2</th>\n",
       "      <th>3</th>\n",
       "    </tr>\n",
       "  </thead>\n",
       "  <tbody>\n",
       "    <tr>\n",
       "      <th>0</th>\n",
       "      <td>00012a2ce6f8dcda20d059ce98491703</td>\n",
       "      <td>2017-11-14 16:08:26</td>\n",
       "      <td>114.74</td>\n",
       "      <td>114.739998</td>\n",
       "    </tr>\n",
       "    <tr>\n",
       "      <th>1</th>\n",
       "      <td>00012a2ce6f8dcda20d059ce98491703</td>\n",
       "      <td>2017-11-14 16:08:26</td>\n",
       "      <td>114.74</td>\n",
       "      <td>114.739998</td>\n",
       "    </tr>\n",
       "    <tr>\n",
       "      <th>2</th>\n",
       "      <td>00012a2ce6f8dcda20d059ce98491703</td>\n",
       "      <td>2017-11-14 16:08:26</td>\n",
       "      <td>114.74</td>\n",
       "      <td>114.739998</td>\n",
       "    </tr>\n",
       "    <tr>\n",
       "      <th>3</th>\n",
       "      <td>000161a058600d5901f007fab4c27140</td>\n",
       "      <td>2017-07-16 09:40:32</td>\n",
       "      <td>67.41</td>\n",
       "      <td>67.410004</td>\n",
       "    </tr>\n",
       "    <tr>\n",
       "      <th>4</th>\n",
       "      <td>000161a058600d5901f007fab4c27140</td>\n",
       "      <td>2017-07-16 09:40:32</td>\n",
       "      <td>67.41</td>\n",
       "      <td>67.410004</td>\n",
       "    </tr>\n",
       "    <tr>\n",
       "      <th>5</th>\n",
       "      <td>000161a058600d5901f007fab4c27140</td>\n",
       "      <td>2017-07-16 09:40:32</td>\n",
       "      <td>67.41</td>\n",
       "      <td>67.410004</td>\n",
       "    </tr>\n",
       "    <tr>\n",
       "      <th>6</th>\n",
       "      <td>0001fd6190edaaf884bcaf3d49edf079</td>\n",
       "      <td>2017-02-28 11:06:43</td>\n",
       "      <td>195.42</td>\n",
       "      <td>195.419998</td>\n",
       "    </tr>\n",
       "    <tr>\n",
       "      <th>7</th>\n",
       "      <td>0001fd6190edaaf884bcaf3d49edf079</td>\n",
       "      <td>2017-02-28 11:06:43</td>\n",
       "      <td>195.42</td>\n",
       "      <td>195.419998</td>\n",
       "    </tr>\n",
       "    <tr>\n",
       "      <th>8</th>\n",
       "      <td>0001fd6190edaaf884bcaf3d49edf079</td>\n",
       "      <td>2017-02-28 11:06:43</td>\n",
       "      <td>195.42</td>\n",
       "      <td>195.419998</td>\n",
       "    </tr>\n",
       "    <tr>\n",
       "      <th>9</th>\n",
       "      <td>0002414f95344307404f0ace7a26f1d5</td>\n",
       "      <td>2017-08-16 13:09:20</td>\n",
       "      <td>179.35</td>\n",
       "      <td>179.350006</td>\n",
       "    </tr>\n",
       "  </tbody>\n",
       "</table>\n",
       "</div>"
      ],
      "text/plain": [
       "                                  0                    1       2           3\n",
       "0  00012a2ce6f8dcda20d059ce98491703  2017-11-14 16:08:26  114.74  114.739998\n",
       "1  00012a2ce6f8dcda20d059ce98491703  2017-11-14 16:08:26  114.74  114.739998\n",
       "2  00012a2ce6f8dcda20d059ce98491703  2017-11-14 16:08:26  114.74  114.739998\n",
       "3  000161a058600d5901f007fab4c27140  2017-07-16 09:40:32   67.41   67.410004\n",
       "4  000161a058600d5901f007fab4c27140  2017-07-16 09:40:32   67.41   67.410004\n",
       "5  000161a058600d5901f007fab4c27140  2017-07-16 09:40:32   67.41   67.410004\n",
       "6  0001fd6190edaaf884bcaf3d49edf079  2017-02-28 11:06:43  195.42  195.419998\n",
       "7  0001fd6190edaaf884bcaf3d49edf079  2017-02-28 11:06:43  195.42  195.419998\n",
       "8  0001fd6190edaaf884bcaf3d49edf079  2017-02-28 11:06:43  195.42  195.419998\n",
       "9  0002414f95344307404f0ace7a26f1d5  2017-08-16 13:09:20  179.35  179.350006"
      ]
     },
     "execution_count": 30,
     "metadata": {},
     "output_type": "execute_result"
    }
   ],
   "source": [
    "query = \"\"\" select customer_id, order_purchase_timestamp,payment,\n",
    "avg(payment) over(partition by customer_id order by order_purchase_timestamp rows between 2 preceding and current row ) as mov_avg \n",
    "from\n",
    "(select orders.customer_id,orders.order_purchase_timestamp , payments.payment_value as payment from payments\n",
    "join orders on payments.order_id = orders.order_id) as a ;\"\"\"\n",
    "\n",
    "cur.execute(query)\n",
    "\n",
    "data=cur.fetchall()\n",
    "df = pd.DataFrame(data)\n",
    "df=df.head(10)\n",
    "df"
   ]
  },
  {
   "cell_type": "markdown",
   "id": "3fa29301-423f-4c6a-a67e-26b341edf712",
   "metadata": {},
   "source": [
    "# Calculate the cumulative sales per month for each year.\n"
   ]
  },
  {
   "cell_type": "code",
   "execution_count": 32,
   "id": "00fd66f2-b600-446e-a352-d32a1e0f4955",
   "metadata": {},
   "outputs": [
    {
     "data": {
      "text/html": [
       "<div>\n",
       "<style scoped>\n",
       "    .dataframe tbody tr th:only-of-type {\n",
       "        vertical-align: middle;\n",
       "    }\n",
       "\n",
       "    .dataframe tbody tr th {\n",
       "        vertical-align: top;\n",
       "    }\n",
       "\n",
       "    .dataframe thead th {\n",
       "        text-align: right;\n",
       "    }\n",
       "</style>\n",
       "<table border=\"1\" class=\"dataframe\">\n",
       "  <thead>\n",
       "    <tr style=\"text-align: right;\">\n",
       "      <th></th>\n",
       "      <th>0</th>\n",
       "      <th>1</th>\n",
       "      <th>2</th>\n",
       "      <th>3</th>\n",
       "    </tr>\n",
       "  </thead>\n",
       "  <tbody>\n",
       "    <tr>\n",
       "      <th>0</th>\n",
       "      <td>2016</td>\n",
       "      <td>9</td>\n",
       "      <td>756.72</td>\n",
       "      <td>756.72</td>\n",
       "    </tr>\n",
       "    <tr>\n",
       "      <th>1</th>\n",
       "      <td>2016</td>\n",
       "      <td>10</td>\n",
       "      <td>177271.44</td>\n",
       "      <td>178028.16</td>\n",
       "    </tr>\n",
       "    <tr>\n",
       "      <th>2</th>\n",
       "      <td>2016</td>\n",
       "      <td>12</td>\n",
       "      <td>58.86</td>\n",
       "      <td>178087.02</td>\n",
       "    </tr>\n",
       "    <tr>\n",
       "      <th>3</th>\n",
       "      <td>2017</td>\n",
       "      <td>1</td>\n",
       "      <td>415464.12</td>\n",
       "      <td>593551.14</td>\n",
       "    </tr>\n",
       "    <tr>\n",
       "      <th>4</th>\n",
       "      <td>2017</td>\n",
       "      <td>2</td>\n",
       "      <td>875724.03</td>\n",
       "      <td>1469275.17</td>\n",
       "    </tr>\n",
       "    <tr>\n",
       "      <th>5</th>\n",
       "      <td>2017</td>\n",
       "      <td>3</td>\n",
       "      <td>1349590.80</td>\n",
       "      <td>2818865.97</td>\n",
       "    </tr>\n",
       "    <tr>\n",
       "      <th>6</th>\n",
       "      <td>2017</td>\n",
       "      <td>4</td>\n",
       "      <td>1253364.09</td>\n",
       "      <td>4072230.06</td>\n",
       "    </tr>\n",
       "    <tr>\n",
       "      <th>7</th>\n",
       "      <td>2017</td>\n",
       "      <td>5</td>\n",
       "      <td>1778756.46</td>\n",
       "      <td>5850986.52</td>\n",
       "    </tr>\n",
       "    <tr>\n",
       "      <th>8</th>\n",
       "      <td>2017</td>\n",
       "      <td>6</td>\n",
       "      <td>1533829.14</td>\n",
       "      <td>7384815.66</td>\n",
       "    </tr>\n",
       "    <tr>\n",
       "      <th>9</th>\n",
       "      <td>2017</td>\n",
       "      <td>7</td>\n",
       "      <td>1777148.76</td>\n",
       "      <td>9161964.42</td>\n",
       "    </tr>\n",
       "    <tr>\n",
       "      <th>10</th>\n",
       "      <td>2017</td>\n",
       "      <td>8</td>\n",
       "      <td>2023188.96</td>\n",
       "      <td>11185153.38</td>\n",
       "    </tr>\n",
       "    <tr>\n",
       "      <th>11</th>\n",
       "      <td>2017</td>\n",
       "      <td>9</td>\n",
       "      <td>2183287.35</td>\n",
       "      <td>13368440.73</td>\n",
       "    </tr>\n",
       "    <tr>\n",
       "      <th>12</th>\n",
       "      <td>2017</td>\n",
       "      <td>10</td>\n",
       "      <td>2339033.64</td>\n",
       "      <td>15707474.37</td>\n",
       "    </tr>\n",
       "    <tr>\n",
       "      <th>13</th>\n",
       "      <td>2017</td>\n",
       "      <td>11</td>\n",
       "      <td>3584648.40</td>\n",
       "      <td>19292122.77</td>\n",
       "    </tr>\n",
       "    <tr>\n",
       "      <th>14</th>\n",
       "      <td>2017</td>\n",
       "      <td>12</td>\n",
       "      <td>2635204.44</td>\n",
       "      <td>21927327.21</td>\n",
       "    </tr>\n",
       "    <tr>\n",
       "      <th>15</th>\n",
       "      <td>2018</td>\n",
       "      <td>1</td>\n",
       "      <td>3345012.54</td>\n",
       "      <td>25272339.75</td>\n",
       "    </tr>\n",
       "    <tr>\n",
       "      <th>16</th>\n",
       "      <td>2018</td>\n",
       "      <td>2</td>\n",
       "      <td>2977390.02</td>\n",
       "      <td>28249729.77</td>\n",
       "    </tr>\n",
       "    <tr>\n",
       "      <th>17</th>\n",
       "      <td>2018</td>\n",
       "      <td>3</td>\n",
       "      <td>3478956.36</td>\n",
       "      <td>31728686.13</td>\n",
       "    </tr>\n",
       "    <tr>\n",
       "      <th>18</th>\n",
       "      <td>2018</td>\n",
       "      <td>4</td>\n",
       "      <td>3482356.44</td>\n",
       "      <td>35211042.57</td>\n",
       "    </tr>\n",
       "    <tr>\n",
       "      <th>19</th>\n",
       "      <td>2018</td>\n",
       "      <td>5</td>\n",
       "      <td>3461946.45</td>\n",
       "      <td>38672989.02</td>\n",
       "    </tr>\n",
       "    <tr>\n",
       "      <th>20</th>\n",
       "      <td>2018</td>\n",
       "      <td>6</td>\n",
       "      <td>3071641.50</td>\n",
       "      <td>41744630.52</td>\n",
       "    </tr>\n",
       "    <tr>\n",
       "      <th>21</th>\n",
       "      <td>2018</td>\n",
       "      <td>7</td>\n",
       "      <td>3199622.25</td>\n",
       "      <td>44944252.77</td>\n",
       "    </tr>\n",
       "    <tr>\n",
       "      <th>22</th>\n",
       "      <td>2018</td>\n",
       "      <td>8</td>\n",
       "      <td>3067275.96</td>\n",
       "      <td>48011528.73</td>\n",
       "    </tr>\n",
       "    <tr>\n",
       "      <th>23</th>\n",
       "      <td>2018</td>\n",
       "      <td>9</td>\n",
       "      <td>13318.62</td>\n",
       "      <td>48024847.35</td>\n",
       "    </tr>\n",
       "    <tr>\n",
       "      <th>24</th>\n",
       "      <td>2018</td>\n",
       "      <td>10</td>\n",
       "      <td>1769.01</td>\n",
       "      <td>48026616.36</td>\n",
       "    </tr>\n",
       "  </tbody>\n",
       "</table>\n",
       "</div>"
      ],
      "text/plain": [
       "       0   1           2            3\n",
       "0   2016   9      756.72       756.72\n",
       "1   2016  10   177271.44    178028.16\n",
       "2   2016  12       58.86    178087.02\n",
       "3   2017   1   415464.12    593551.14\n",
       "4   2017   2   875724.03   1469275.17\n",
       "5   2017   3  1349590.80   2818865.97\n",
       "6   2017   4  1253364.09   4072230.06\n",
       "7   2017   5  1778756.46   5850986.52\n",
       "8   2017   6  1533829.14   7384815.66\n",
       "9   2017   7  1777148.76   9161964.42\n",
       "10  2017   8  2023188.96  11185153.38\n",
       "11  2017   9  2183287.35  13368440.73\n",
       "12  2017  10  2339033.64  15707474.37\n",
       "13  2017  11  3584648.40  19292122.77\n",
       "14  2017  12  2635204.44  21927327.21\n",
       "15  2018   1  3345012.54  25272339.75\n",
       "16  2018   2  2977390.02  28249729.77\n",
       "17  2018   3  3478956.36  31728686.13\n",
       "18  2018   4  3482356.44  35211042.57\n",
       "19  2018   5  3461946.45  38672989.02\n",
       "20  2018   6  3071641.50  41744630.52\n",
       "21  2018   7  3199622.25  44944252.77\n",
       "22  2018   8  3067275.96  48011528.73\n",
       "23  2018   9    13318.62  48024847.35\n",
       "24  2018  10     1769.01  48026616.36"
      ]
     },
     "execution_count": 32,
     "metadata": {},
     "output_type": "execute_result"
    }
   ],
   "source": [
    "query = \"\"\"select years , months ,  payment ,sum(payment)\n",
    "over(order by years , months) as cumulative_sales\n",
    "from\n",
    "(select year(orders.order_purchase_timestamp) as years,\n",
    "month(orders.order_purchase_timestamp) as months,\n",
    "round(sum(payments.payment_value),2) as payment \n",
    "from orders join payments\n",
    "on orders.order_id = payments.order_id \n",
    "group by years , months  \n",
    "order by years , months) as a; \"\"\"\n",
    "\n",
    "cur.execute(query)\n",
    "\n",
    "data=cur.fetchall()\n",
    "df = pd.DataFrame(data)\n",
    "df"
   ]
  },
  {
   "cell_type": "markdown",
   "id": "977623a3-d5f8-4be5-8df2-f10b80a7be97",
   "metadata": {},
   "source": [
    "#  Calculate the year-over-year growth rate of total sales.\n"
   ]
  },
  {
   "cell_type": "code",
   "execution_count": 47,
   "id": "3ddb4feb-298c-4eeb-9c60-459579fc2594",
   "metadata": {},
   "outputs": [
    {
     "data": {
      "text/html": [
       "<div>\n",
       "<style scoped>\n",
       "    .dataframe tbody tr th:only-of-type {\n",
       "        vertical-align: middle;\n",
       "    }\n",
       "\n",
       "    .dataframe tbody tr th {\n",
       "        vertical-align: top;\n",
       "    }\n",
       "\n",
       "    .dataframe thead th {\n",
       "        text-align: right;\n",
       "    }\n",
       "</style>\n",
       "<table border=\"1\" class=\"dataframe\">\n",
       "  <thead>\n",
       "    <tr style=\"text-align: right;\">\n",
       "      <th></th>\n",
       "      <th>years</th>\n",
       "      <th>yoy%growth</th>\n",
       "    </tr>\n",
       "  </thead>\n",
       "  <tbody>\n",
       "    <tr>\n",
       "      <th>0</th>\n",
       "      <td>2016</td>\n",
       "      <td>NaN</td>\n",
       "    </tr>\n",
       "    <tr>\n",
       "      <th>1</th>\n",
       "      <td>2017</td>\n",
       "      <td>12112.703756</td>\n",
       "    </tr>\n",
       "    <tr>\n",
       "      <th>2</th>\n",
       "      <td>2018</td>\n",
       "      <td>20.000924</td>\n",
       "    </tr>\n",
       "  </tbody>\n",
       "</table>\n",
       "</div>"
      ],
      "text/plain": [
       "   years    yoy%growth\n",
       "0   2016           NaN\n",
       "1   2017  12112.703756\n",
       "2   2018     20.000924"
      ]
     },
     "execution_count": 47,
     "metadata": {},
     "output_type": "execute_result"
    }
   ],
   "source": [
    "query = \"\"\" with a as(select year(orders.order_purchase_timestamp) as years,\n",
    "round(sum(payments.payment_value),2) as payment \n",
    "from orders join payments\n",
    "on orders.order_id = payments.order_id \n",
    "group by years   \n",
    "order by years)\n",
    "\n",
    "select years,((payment - LAG(payment) OVER (ORDER BY years)) / LAG(payment) OVER (ORDER BY years) * 100) from a\"\"\"\n",
    "\n",
    "cur.execute(query)\n",
    "\n",
    "data=cur.fetchall()\n",
    "df = pd.DataFrame(data , columns = [\"years\",\"yoy%growth\" ])\n",
    "df"
   ]
  },
  {
   "cell_type": "markdown",
   "id": "0a559523-df2d-42f6-aed4-6c643ba6732f",
   "metadata": {},
   "source": [
    "#  Calculate the retention rate of customers, defined as the percentage of customers who make another purchase within 6 months of their first purchase.\n"
   ]
  },
  {
   "cell_type": "code",
   "execution_count": 50,
   "id": "97f0e473-5646-4d17-993e-a2cea286da41",
   "metadata": {},
   "outputs": [
    {
     "data": {
      "text/html": [
       "<div>\n",
       "<style scoped>\n",
       "    .dataframe tbody tr th:only-of-type {\n",
       "        vertical-align: middle;\n",
       "    }\n",
       "\n",
       "    .dataframe tbody tr th {\n",
       "        vertical-align: top;\n",
       "    }\n",
       "\n",
       "    .dataframe thead th {\n",
       "        text-align: right;\n",
       "    }\n",
       "</style>\n",
       "<table border=\"1\" class=\"dataframe\">\n",
       "  <thead>\n",
       "    <tr style=\"text-align: right;\">\n",
       "      <th></th>\n",
       "      <th>retention rate of customer</th>\n",
       "    </tr>\n",
       "  </thead>\n",
       "  <tbody>\n",
       "    <tr>\n",
       "      <th>0</th>\n",
       "      <td>None</td>\n",
       "    </tr>\n",
       "  </tbody>\n",
       "</table>\n",
       "</div>"
      ],
      "text/plain": [
       "  retention rate of customer\n",
       "0                       None"
      ]
     },
     "execution_count": 50,
     "metadata": {},
     "output_type": "execute_result"
    }
   ],
   "source": [
    "query = \"\"\" with a as (\n",
    "select customers.customer_id,\n",
    "min(orders.order_purchase_timestamp) as first_order\n",
    "from customers \n",
    "join orders \n",
    "on customers.customer_id = orders.customer_id\n",
    "group by customers.customer_id),\n",
    "\n",
    "\n",
    "b as(select a.customer_id, count(distinct orders.order_purchase_timestamp) as next_order\n",
    "from a join orders\n",
    "on orders.customer_id = a.customer_id\n",
    "and orders.order_purchase_timestamp > first_order\n",
    "and orders.order_purchase_timestamp < date_add(first_order , interval 6 month)\n",
    "group by a.customer_id )\n",
    "\n",
    "select 100 * (count(distinct a.customer_id))/(count(distinct b.customer_id))\n",
    "from a left join b \n",
    "on a.customer_id = b.customer_id ;\"\"\"\n",
    "\n",
    "cur.execute(query)\n",
    "\n",
    "data=cur.fetchall()\n",
    "df = pd.DataFrame(data , columns =[\"retention rate of customer\"])\n",
    "df"
   ]
  },
  {
   "cell_type": "markdown",
   "id": "a172373e-10a5-40af-af1f-fbd6221f2cdd",
   "metadata": {},
   "source": [
    "#  NONE OF CUSTOMERS HAVE A PURCHASE WITHIN A 6 MONTHS INTERVAL "
   ]
  },
  {
   "cell_type": "markdown",
   "id": "08438a3a-ac6e-4b52-85c6-92cb19b73dd0",
   "metadata": {},
   "source": [
    "#  Identify the top 3 customers who spent the most money in each year."
   ]
  },
  {
   "cell_type": "code",
   "execution_count": 65,
   "id": "d46b012e-101e-46ec-91bb-988845d910fe",
   "metadata": {},
   "outputs": [
    {
     "data": {
      "image/png": "[encoded data removed]",
      "text/plain": [
       "<Figure size 640x480 with 1 Axes>"
      ]
     },
     "metadata": {},
     "output_type": "display_data"
    }
   ],
   "source": [
    "query = \"\"\" select years , customer_id , payment , d_rank \n",
    "from\n",
    "(select year(orders.order_purchase_timestamp) as years, \n",
    "orders.customer_id,\n",
    "sum(payments.payment_value) as payment,\n",
    "dense_rank()over(partition by year(orders.order_purchase_timestamp)\n",
    "order by sum(payments.payment_value) DESC) d_rank\n",
    "from orders join payments\n",
    "on payments.order_id = orders.order_id\n",
    "group by year(orders.order_purchase_timestamp) ,orders.customer_id) as a\n",
    "where d_rank <=3 ;\"\"\"\n",
    "\n",
    "cur.execute(query)\n",
    "\n",
    "data=cur.fetchall()\n",
    "df = pd.DataFrame(data , columns = [\"year\" , \"id\" , \"payment\" , \"D_rank\"])\n",
    "sns.barplot(x=\"id\", y=\"payment\", data=df, hue=\"year\", palette=\"Set2\")\n",
    "plt.xticks(rotation = 90)\n",
    "plt.show()\n"
   ]
  }
 ],
 "metadata": {
  "kernelspec": {
   "display_name": "Python 3 (ipykernel)",
   "language": "python",
   "name": "python3"
  },
  "language_info": {
   "codemirror_mode": {
    "name": "ipython",
    "version": 3
   },
   "file_extension": ".py",
   "mimetype": "text/x-python",
   "name": "python",
   "nbconvert_exporter": "python",
   "pygments_lexer": "ipython3",
   "version": "3.12.7"
  }
 },
 "nbformat": 4,
 "nbformat_minor": 5
}
